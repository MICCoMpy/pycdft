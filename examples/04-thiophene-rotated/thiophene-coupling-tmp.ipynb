{
 "cells": [
  {
   "cell_type": "markdown",
   "metadata": {},
   "source": [
    "## Prerequisite"
   ]
  },
  {
   "cell_type": "markdown",
   "metadata": {},
   "source": [
    "After compiling the DFT driver and installing PyCDFT, run the ground state calculation.\n",
    "- - - - - - -\n",
    "For Qbox\n",
    "\n",
    "```bash\n",
    " export qb=\"/path/to/executable\"\n",
    " $qb < gs.in > gs.out\n",
    "```\n",
    "Then in the same directory, run [Qbox in server mode](qboxcode.org/daoc/html/usage/client-server.html) (using interactive queue)\n",
    "    \n",
    "\n",
    "```bash\n",
    " mpirun -np <ntasks> $qb -server qb_cdft.in qb_cdft.out\n",
    "```\n",
    "\n",
    "where qb_cdft.\\* are files reserved in client-server mode."
   ]
  },
  {
   "cell_type": "markdown",
   "metadata": {},
   "source": [
    "### Tutorial: coupling constant for thiophene"
   ]
  },
  {
   "cell_type": "code",
   "execution_count": null,
   "metadata": {},
   "outputs": [],
   "source": [
    "from pycdft import *\n",
    "from ase.io import read"
   ]
  },
  {
   "cell_type": "code",
   "execution_count": null,
   "metadata": {},
   "outputs": [],
   "source": [
    "cell = read(\"./REPL1\")\n",
    "print(r\"Initial atomic positions (Ang):\")\n",
    "print(cell.get_positions())\n",
    "print(r\"Initial lattice parameters (Ang):\")\n",
    "print(cell.get_cell())"
   ]
  },
  {
   "cell_type": "code",
   "execution_count": null,
   "metadata": {},
   "outputs": [],
   "source": [
    "V = (-2,2)\n",
    "    \n",
    "print(\"==================== Initializing Run =========================\")\n",
    "# load sample geometry\n",
    "sample = Sample(ase_cell=cell, n1=REPLX, n2=REPLY, n3=REPLZ, vspin=1)\n",
    "print(sample.atoms[1])\n",
    "    \n",
    "# load DFT driver\n",
    "qboxdriver = QboxDriver(\n",
    "    sample=sample,\n",
    "    init_cmd=\"load gs.xml\\n\"\n",
    "             \"set xc PBE\\n\"\n",
    "             \"set wf_dyn JD\\n\"\n",
    "             \"set scf_tol 1.0E-8\\n\",\n",
    "    scf_cmd=\"run 0 50 5\"\n",
    ")\n",
    "    \n",
    "# set up CDFT constraints and solver\n",
    "solver1 = CDFTSolver(job=\"scf\", optimizer=\"REPLOPT_A\",sample=sample, dft_driver=qboxdriver)\n",
    "solver2 = solver1.copy() \n",
    "    \n",
    "# add constraint to two solvers\n",
    "ChargeTransferConstraint(\n",
    "    sample=solver1.sample,\n",
    "    donor=Fragment(solver1.sample, solver1.sample.atoms[0:9]),\n",
    "    acceptor=Fragment(solver1.sample, solver1.sample.atoms[9:18]),\n",
    "    REPLV_START_A ,\n",
    "    N0=1,\n",
    "    N_tol=REPL_TOL\n",
    ")\n",
    "ChargeTransferConstraint(\n",
    "    sample=solver2.sample, \n",
    "    donor=Fragment(solver2.sample, solver2.sample.atoms[0:9]),\n",
    "    acceptor=Fragment(solver2.sample, solver2.sample.atoms[9:18]),\n",
    "    REPLV_START_B ,\n",
    "    N0=-1, \n",
    "    N_tol=REPL_TOL\n",
    ")\n",
    "    \n",
    "print(\"~~~~~~~~~~~~~~~~~~~~ Applying CDFT ~~~~~~~~~~~~~~~~~~~~\")\n",
    "print(\"---- solver A ------\")\n",
    "solver1.solve()\n",
    "print(\"---- solver B ------\")\n",
    "solver2.solve()\n",
    "    \n",
    "print(\"~~~~~~~~~~~~~~~~~~~~ Calculating coupling ~~~~~~~~~~~~~~~~~~~~\")\n",
    "compute_elcoupling(solver1, solver2)\n",
    "    \n",
    "print(\"==================== JOB DONE =========================\")"
   ]
  }
 ],
 "metadata": {
  "anaconda-cloud": {},
  "kernelspec": {
   "display_name": "Python 3",
   "language": "python",
   "name": "python3"
  },
  "language_info": {
   "codemirror_mode": {
    "name": "ipython",
    "version": 3
   },
   "file_extension": ".py",
   "mimetype": "text/x-python",
   "name": "python",
   "nbconvert_exporter": "python",
   "pygments_lexer": "ipython3",
   "version": "3.7.0"
  }
 },
 "nbformat": 4,
 "nbformat_minor": 1
}
