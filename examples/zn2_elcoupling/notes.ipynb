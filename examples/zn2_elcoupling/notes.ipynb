{
 "cells": [
  {
   "cell_type": "code",
   "execution_count": null,
   "metadata": {
    "collapsed": true
   },
   "outputs": [],
   "source": [
    "from pycdft import *\n",
    "from ase.io import read"
   ]
  },
  {
   "cell_type": "code",
   "execution_count": null,
   "metadata": {
    "collapsed": true
   },
   "outputs": [],
   "source": [
    "ase_cell = read(\"./Zn2.cif\")"
   ]
  },
  {
   "cell_type": "code",
   "execution_count": null,
   "metadata": {
    "collapsed": true
   },
   "outputs": [],
   "source": [
    "sample = Sample(ase_cell=ase_cell, n1=126, n2=126, n3=154, vspin=1)"
   ]
  },
  {
   "cell_type": "code",
   "execution_count": null,
   "metadata": {
    "collapsed": true,
    "scrolled": true
   },
   "outputs": [],
   "source": [
    "qboxdriver = QboxDriver(\n",
    "    sample=sample,\n",
    "    init_cmd=\"load gs.xml\\nset xc PBE\\nset wf_dyn JD\\nset scf_tol 1.0E-8\\n\",\n",
    "    scf_cmd=\"run 0 50 5\"\n",
    ")"
   ]
  },
  {
   "cell_type": "code",
   "execution_count": null,
   "metadata": {
    "collapsed": true,
    "scrolled": true
   },
   "outputs": [],
   "source": [
    "solver1 = CDFTSolver(job=\"scf\", optimizer=\"secant\", sample=sample, dft_driver=qboxdriver)\n",
    "solver2 = solver1.copy()"
   ]
  },
  {
   "cell_type": "code",
   "execution_count": null,
   "metadata": {
    "collapsed": true
   },
   "outputs": [],
   "source": [
    "# add constraint to two solvers\n",
    "ChargeTransferConstraint(\n",
    "    sample=solver1.sample,\n",
    "    donor=Fragment(solver1.sample, solver1.sample.atoms[0:1]),\n",
    "    acceptor=Fragment(solver1.sample, solver1.sample.atoms[1:2]),\n",
    "    V_init=-0.176,\n",
    "    N0=1,\n",
    "    N_tol=5E-5\n",
    ")\n",
    "ChargeTransferConstraint(\n",
    "    sample=solver2.sample, \n",
    "    donor=Fragment(solver2.sample, solver2.sample.atoms[0:1]),\n",
    "    acceptor=Fragment(solver2.sample, solver2.sample.atoms[1:2]),\n",
    "    V_init=0.176,\n",
    "    N0=-1, \n",
    "    N_tol=5E-5\n",
    ")"
   ]
  },
  {
   "cell_type": "code",
   "execution_count": null,
   "metadata": {
    "collapsed": true,
    "scrolled": false
   },
   "outputs": [],
   "source": [
    "solver1.solve()"
   ]
  },
  {
   "cell_type": "code",
   "execution_count": null,
   "metadata": {
    "collapsed": true,
    "scrolled": false
   },
   "outputs": [],
   "source": [
    "solver2.solve()"
   ]
  },
  {
   "cell_type": "code",
   "execution_count": null,
   "metadata": {
    "collapsed": true,
    "scrolled": true
   },
   "outputs": [],
   "source": [
    "compute_elcoupling(solver1, solver2)"
   ]
  }
 ],
 "metadata": {
  "anaconda-cloud": {},
  "kernelspec": {
   "display_name": "Python 2",
   "language": "python",
   "name": "python2"
  },
  "language_info": {
   "codemirror_mode": {
    "name": "ipython",
    "version": 2
   },
   "file_extension": ".py",
   "mimetype": "text/x-python",
   "name": "python",
   "nbconvert_exporter": "python",
   "pygments_lexer": "ipython2",
   "version": "2.7.9"
  }
 },
 "nbformat": 4,
 "nbformat_minor": 1
}
