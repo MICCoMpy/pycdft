{
 "cells": [
  {
   "cell_type": "code",
   "execution_count": 1,
   "metadata": {
    "collapsed": true
   },
   "outputs": [],
   "source": [
    "from pycdft import *\n",
    "from ase.io import read"
   ]
  },
  {
   "cell_type": "code",
   "execution_count": 2,
   "metadata": {
    "collapsed": true
   },
   "outputs": [],
   "source": [
    "ase_cell = read(\"./Zn2.cif\")"
   ]
  },
  {
   "cell_type": "code",
   "execution_count": 3,
   "metadata": {
    "collapsed": true
   },
   "outputs": [],
   "source": [
    "sample = Sample(ase_cell=ase_cell, n1=126, n2=126, n3=154, vspin=1)"
   ]
  },
  {
   "cell_type": "code",
   "execution_count": 4,
   "metadata": {
    "collapsed": true,
    "scrolled": true
   },
   "outputs": [],
   "source": [
    "qboxdriver = QboxDriver(\n",
    "    sample=sample,\n",
    "    init_cmd=\"load gs.xml\\nset xc PBE\\nset wf_dyn JD\\nset scf_tol 1.0E-8\\n\",\n",
    "    scf_cmd=\"run 0 50 5\"\n",
    ")"
   ]
  },
  {
   "cell_type": "code",
   "execution_count": 5,
   "metadata": {
    "scrolled": true
   },
   "outputs": [
    {
     "name": "stdout",
     "output_type": "stream",
     "text": [
      "QboxDriver: setting output path to ./pycdft_outputs/solver1/...\n",
      "QboxDriver: waiting for Qbox to start...\n",
      "QboxDriver: initializing Qbox...\n"
     ]
    }
   ],
   "source": [
    "solver1 = CDFTSolver(job=\"scf\", optimizer=\"secant\", sample=sample, dft_driver=qboxdriver)\n",
    "solver2 = solver1.copy()"
   ]
  },
  {
   "cell_type": "code",
   "execution_count": 6,
   "metadata": {},
   "outputs": [
    {
     "data": {
      "text/plain": [
       "<pycdft.constraint.charge_transfer.ChargeTransferConstraint at 0x7f69089c4320>"
      ]
     },
     "execution_count": 6,
     "metadata": {},
     "output_type": "execute_result"
    }
   ],
   "source": [
    "# add constraint to two solvers\n",
    "ChargeTransferConstraint(\n",
    "    sample=solver1.sample,\n",
    "    donor=Fragment(solver1.sample, solver1.sample.atoms[0:1]),\n",
    "    acceptor=Fragment(solver1.sample, solver1.sample.atoms[1:2]),\n",
    "    V_init=-0.176,\n",
    "    N0=1,\n",
    "    N_tol=5E-5\n",
    ")\n",
    "ChargeTransferConstraint(\n",
    "    sample=solver2.sample, \n",
    "    donor=Fragment(solver2.sample, solver2.sample.atoms[0:1]),\n",
    "    acceptor=Fragment(solver2.sample, solver2.sample.atoms[1:2]),\n",
    "    V_init=0.176,\n",
    "    N0=-1, \n",
    "    N_tol=5E-5\n",
    ")"
   ]
  },
  {
   "cell_type": "code",
   "execution_count": 7,
   "metadata": {
    "scrolled": false
   },
   "outputs": [
    {
     "name": "stdout",
     "output_type": "stream",
     "text": [
      "Updating constraint with new structure...\n",
      "~~~~~~~~~~~~~~~~~~~~~~~~~~~~~~~~\n",
      "SCF iteration 1\n",
      "  Ed (DFT energy) = -399.936396\n",
      "  Ec (constraint energy) = -0.176109\n",
      "  E (Ed + Ec) = -400.112505\n",
      "  W (free energy) = -399.936397\n",
      "  > Constraint #0 (type = charge transfer, N0 = 1, V = -0.176000):\n",
      "    N = 1.000614\n",
      "    dW/dV = N - N0 = 0.000614\n",
      "~~~~~~~~~~~~~~~~~~~~~~~~~~~~~~~~\n",
      "~~~~~~~~~~~~~~~~~~~~~~~~~~~~~~~~\n",
      "SCF iteration 2\n",
      "  Ed (DFT energy) = -399.936373\n",
      "  Ec (constraint energy) = -0.176250\n",
      "  E (Ed + Ec) = -400.112623\n",
      "  W (free energy) = -399.936374\n",
      "  > Constraint #0 (type = charge transfer, N0 = 1, V = -0.176118):\n",
      "    N = 1.000745\n",
      "    dW/dV = N - N0 = 0.000745\n",
      "~~~~~~~~~~~~~~~~~~~~~~~~~~~~~~~~\n",
      "~~~~~~~~~~~~~~~~~~~~~~~~~~~~~~~~\n",
      "SCF iteration 3\n",
      "  Ed (DFT energy) = -399.936509\n",
      "  Ec (constraint energy) = -0.175445\n",
      "  E (Ed + Ec) = -400.111954\n",
      "  W (free energy) = -399.936510\n",
      "  > Constraint #0 (type = charge transfer, N0 = 1, V = -0.175449):\n",
      "    N = 0.999972\n",
      "    dW/dV = N - N0 = -0.000028\n",
      "~~~~~~~~~~~~~~~~~~~~~~~~~~~~~~~~\n",
      "*Constrained SCF converged!*\n",
      "\n"
     ]
    }
   ],
   "source": [
    "solver1.solve()"
   ]
  },
  {
   "cell_type": "code",
   "execution_count": 8,
   "metadata": {
    "scrolled": false
   },
   "outputs": [
    {
     "name": "stdout",
     "output_type": "stream",
     "text": [
      "Updating constraint with new structure...\n",
      "~~~~~~~~~~~~~~~~~~~~~~~~~~~~~~~~\n",
      "SCF iteration 1\n",
      "  Ed (DFT energy) = -399.936396\n",
      "  Ec (constraint energy) = -0.176109\n",
      "  E (Ed + Ec) = -400.112505\n",
      "  W (free energy) = -399.936397\n",
      "  > Constraint #0 (type = charge transfer, N0 = -1, V = 0.176000):\n",
      "    N = -1.000615\n",
      "    dW/dV = N - N0 = -0.000615\n",
      "~~~~~~~~~~~~~~~~~~~~~~~~~~~~~~~~\n",
      "~~~~~~~~~~~~~~~~~~~~~~~~~~~~~~~~\n",
      "SCF iteration 2\n",
      "  Ed (DFT energy) = -399.936373\n",
      "  Ec (constraint energy) = -0.176250\n",
      "  E (Ed + Ec) = -400.112623\n",
      "  W (free energy) = -399.936374\n",
      "  > Constraint #0 (type = charge transfer, N0 = -1, V = 0.176118):\n",
      "    N = -1.000744\n",
      "    dW/dV = N - N0 = -0.000744\n",
      "~~~~~~~~~~~~~~~~~~~~~~~~~~~~~~~~\n",
      "~~~~~~~~~~~~~~~~~~~~~~~~~~~~~~~~\n",
      "SCF iteration 3\n",
      "  Ed (DFT energy) = -399.936510\n",
      "  Ec (constraint energy) = -0.175438\n",
      "  E (Ed + Ec) = -400.111948\n",
      "  W (free energy) = -399.936511\n",
      "  > Constraint #0 (type = charge transfer, N0 = -1, V = 0.175443):\n",
      "    N = -0.999965\n",
      "    dW/dV = N - N0 = 0.000035\n",
      "~~~~~~~~~~~~~~~~~~~~~~~~~~~~~~~~\n",
      "*Constrained SCF converged!*\n",
      "\n"
     ]
    }
   ],
   "source": [
    "solver2.solve()"
   ]
  },
  {
   "cell_type": "code",
   "execution_count": 9,
   "metadata": {
    "scrolled": true
   },
   "outputs": [
    {
     "name": "stdout",
     "output_type": "stream",
     "text": [
      "S matrix:\n",
      "[[ 1.         -0.03432565]\n",
      " [-0.03432565  1.        ]]\n",
      "Vab: 3.13079264114e-12\n",
      "H matrix between nonorthogonal diabatic states:\n",
      "[[-399.93650865   13.73410447]\n",
      " [  13.73410447 -399.93650986]]\n",
      "H matrix between orthogonal diabatic states using Lowdin diagonalization:\n",
      "[[ -3.99936302e+02   6.02924599e-03]\n",
      " [  6.02924599e-03  -3.99936303e+02]]\n",
      "|Hab| (H): 0.00602924599377\n",
      "|Hab| (mH): 6.02924599377\n",
      "|Hab| (eV): 0.16406362151\n"
     ]
    }
   ],
   "source": [
    "compute_elcoupling(solver1, solver2)"
   ]
  }
 ],
 "metadata": {
  "anaconda-cloud": {},
  "kernelspec": {
   "display_name": "Python 3",
   "language": "python",
   "name": "python3"
  },
  "language_info": {
   "codemirror_mode": {
    "name": "ipython",
    "version": 3
   },
   "file_extension": ".py",
   "mimetype": "text/x-python",
   "name": "python",
   "nbconvert_exporter": "python",
   "pygments_lexer": "ipython3",
   "version": "3.6.5"
  }
 },
 "nbformat": 4,
 "nbformat_minor": 1
}
