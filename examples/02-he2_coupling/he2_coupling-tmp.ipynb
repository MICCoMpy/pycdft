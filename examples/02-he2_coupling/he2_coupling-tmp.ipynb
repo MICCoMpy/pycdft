{
 "cells": [
  {
   "cell_type": "markdown",
   "metadata": {},
   "source": [
    "## Prerequisite"
   ]
  },
  {
   "cell_type": "markdown",
   "metadata": {},
   "source": [
    "After compiling the DFT driver and installing PyCDFT, run the ground state calculation.\n",
    "- - - - - - -\n",
    "For Qbox\n",
    "\n",
    "```bash\n",
    " export qb=\"/path/to/executable\"\n",
    " $qb < gs.in > gs.out\n",
    "```\n",
    "Then in the same directory, run [Qbox in server mode](qboxcode.org/daoc/html/usage/client-server.html) (using interactive queue)\n",
    "    \n",
    "\n",
    "```bash\n",
    " mpirun -np <ntasks> $qb -server qb_cdft.in qb_cdft.out\n",
    "```\n",
    "\n",
    "where qb_cdft.\\* are files reserved in client-server mode."
   ]
  },
  {
   "cell_type": "markdown",
   "metadata": {},
   "source": [
    "### Tutorial: coupling constant for He$_2^+$"
   ]
  },
  {
   "cell_type": "code",
   "execution_count": null,
   "metadata": {},
   "outputs": [],
   "source": [
    "from pycdft import *\n",
    "from ase.io import read"
   ]
  },
  {
   "cell_type": "code",
   "execution_count": null,
   "metadata": {},
   "outputs": [],
   "source": [
    "cell = read(\"./He2.cif\")\n",
    "print(r\"Initial atomic positions (Ang):\")\n",
    "print(cell.get_positions())\n",
    "print(cell.get_cell())"
   ]
  },
  {
   "cell_type": "markdown",
   "metadata": {},
   "source": [
    "Here we will do a proper run of PyCDFT and include the calculation of the electron coupling.\n",
    "Instead of randomly guessing an initial constraint potential $V$, we shall use the `brentq` or `brenth` optimizers to perform a search. For these particular optimizers, we need to specify a range of $V$ where the function space is sampled for both positive and negative values; a range of (-2,2) is typically sufficient.\n",
    "\n",
    "As before, we initialize the system in the PyCDFT module."
   ]
  },
  {
   "cell_type": "code",
   "execution_count": null,
   "metadata": {
    "scrolled": true
   },
   "outputs": [],
   "source": [
    "V = (2,-2)\n",
    "# V = -0.703772086888  # this is close to optimal constraint potential, use secant optimizer to refine\n",
    "    \n",
    "print(\"==================== Initializing Run =========================\")\n",
    "# load sample geometry\n",
    "cell.positions[1][2] = 3.0 \n",
    "sample = Sample(ase_cell=cell, n1=112, n2=112, n3=112, vspin=1)\n",
    "print(sample.atoms[1])\n",
    "    \n",
    "# load DFT driver\n",
    "qboxdriver = QboxDriver(\n",
    "    sample=sample,\n",
    "    init_cmd=\"load gs.xml \\n\" \n",
    "        \"set xc PBE \\n\" \n",
    "        \"set wf_dyn PSDA \\n\" \n",
    "        \"set_atoms_dyn CG \\n\" \n",
    "        \"set scf_tol 1.0E-8 \\n\",\n",
    "        scf_cmd=\"run 0 50 5\",\n",
    ")\n",
    "    \n",
    "# set up CDFT constraints and solver\n",
    "solver1 = CDFTSolver(job=\"scf\", optimizer=\"brenth\",sample=sample, dft_driver=qboxdriver)\n",
    "solver2 = solver1.copy()\n",
    "    \n",
    "# add constraint to two solvers\n",
    "ChargeTransferConstraint(\n",
    "    sample=solver1.sample,\n",
    "    donor=Fragment(solver1.sample, solver1.sample.atoms[0:1]),\n",
    "    acceptor=Fragment(solver1.sample, solver1.sample.atoms[1:2]),\n",
    "    V_brak =V, # change to V_init for secant optimizer\n",
    "    N0=1,\n",
    "    N_tol=1E-6\n",
    ")\n",
    "ChargeTransferConstraint(\n",
    "    sample=solver2.sample, \n",
    "    donor=Fragment(solver2.sample, solver2.sample.atoms[0:1]),\n",
    "    acceptor=Fragment(solver2.sample, solver2.sample.atoms[1:2]),\n",
    "    V_brak=V,\n",
    "    N0=-1, \n",
    "    N_tol=1E-6\n",
    ")"
   ]
  },
  {
   "cell_type": "markdown",
   "metadata": {},
   "source": [
    "And performed constrained DFT"
   ]
  },
  {
   "cell_type": "code",
   "execution_count": null,
   "metadata": {},
   "outputs": [],
   "source": [
    "print(\"~~~~~~~~~~~~~~~~~~~~ Applying CDFT ~~~~~~~~~~~~~~~~~~~~\")\n",
    "print(\"---- solver A ------\")\n",
    "solver1.solve()\n",
    "print(\"---- solver B ------\")\n",
    "solver2.solve()"
   ]
  },
  {
   "cell_type": "markdown",
   "metadata": {},
   "source": [
    "Finally, we call upon the routines for calculating electronic coupling. \n",
    "An example output is given in ./reference"
   ]
  },
  {
   "cell_type": "code",
   "execution_count": null,
   "metadata": {},
   "outputs": [],
   "source": [
    "print(\"~~~~~~~~~~~~~~~~~~~~ Calculating coupling ~~~~~~~~~~~~~~~~~~~~\")\n",
    "compute_elcoupling(solver1, solver2)\n",
    "    \n",
    "print(\"=========== \"+ str(d)+\" Bohr\"+\" =======================\")\n",
    "print(\"==================== JOB DONE =========================\")"
   ]
  },
  {
   "cell_type": "markdown",
   "metadata": {},
   "source": [
    "Visualize the charge density."
   ]
  },
  {
   "cell_type": "code",
   "execution_count": null,
   "metadata": {},
   "outputs": [],
   "source": [
    "print (\"~~~~~~~~~~~ Debugging ~~~~~~~~~\")\n",
    "origin=tuple(np.multiply([0,0,0],0.529))\n",
    "get_rho(solver1,origin,1)\n",
    "get_rho(solver2,origin,2)"
   ]
  }
 ],
 "metadata": {
  "anaconda-cloud": {},
  "kernelspec": {
   "display_name": "Python 3",
   "language": "python",
   "name": "python3"
  },
  "language_info": {
   "codemirror_mode": {
    "name": "ipython",
    "version": 3
   },
   "file_extension": ".py",
   "mimetype": "text/x-python",
   "name": "python",
   "nbconvert_exporter": "python",
   "pygments_lexer": "ipython3",
   "version": "3.7.0"
  }
 },
 "nbformat": 4,
 "nbformat_minor": 1
}
