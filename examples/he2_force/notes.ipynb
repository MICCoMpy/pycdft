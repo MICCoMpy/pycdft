{
 "cells": [
  {
   "cell_type": "code",
   "execution_count": null,
   "metadata": {
    "collapsed": true
   },
   "outputs": [],
   "source": [
    "from pycdft import *\n",
    "from ase.io import read"
   ]
  },
  {
   "cell_type": "code",
   "execution_count": null,
   "metadata": {
    "collapsed": true
   },
   "outputs": [],
   "source": [
    "cell = Cell(\"./He2.cif\")"
   ]
  },
  {
   "cell_type": "code",
   "execution_count": null,
   "metadata": {
    "scrolled": false
   },
   "outputs": [],
   "source": [
    "ds = [2.9, 3.0, 3.1]\n",
    "Vs = [1.191584, 1.274559, 1.329482]\n",
    "\n",
    "Eds = []\n",
    "Ecs = []\n",
    "Ws = []\n",
    "Fds = []\n",
    "Fcs = []\n",
    "Fws = []\n",
    "\n",
    "for d, V in zip(ds, Vs):\n",
    "    cell.atoms[1].abs_coord[2] = d\n",
    "    sample = Sample(ase_cell=cell.ase_cell, n1=80, n2=80, n3=80, vspin=1)\n",
    "    print(sample.atoms[1])\n",
    "    \n",
    "    qboxdriver = QboxDriver(\n",
    "        sample=sample,\n",
    "        init_cmd=\"load gs.xml\\nset xc PBE\\nset wf_dyn PSDA\\nset_atoms_dyn CG\\nset scf_tol 1.0E-8\\n\",\n",
    "        scf_cmd=\"run 0 50 5\",\n",
    "    )\n",
    "    \n",
    "    solver = CDFTSolver(job=\"opt\", optimizer=\"secant\", sample=sample, maxstep=1, dft_driver=qboxdriver)\n",
    "    \n",
    "    c = ChargeConstraint(\n",
    "        sample=solver.sample,\n",
    "        fragment=Fragment(solver.sample, solver.sample.atoms[0:1]),\n",
    "        V_init=V,\n",
    "        N0=1,\n",
    "        N_tol=1.0E-3\n",
    "    )\n",
    "#     c = ChargeTransferConstraint(\n",
    "#         sample=solver.sample,\n",
    "#         donor=Fragment(solver.sample, solver.sample.atoms[0:1]),\n",
    "#         acceptor=Fragment(solver.sample, solver.sample.atoms[1:2]),\n",
    "#         V_init=0,\n",
    "#         N0=1,\n",
    "#         N_tol=1.0E-3\n",
    "#     )\n",
    "    \n",
    "    solver.solve()\n",
    "    \n",
    "    Eds.append(sample.Ed)\n",
    "    Ecs.append(sample.Ec)\n",
    "    Ws.append(sample.W)\n",
    "    Fds.append(sample.Fd[0][2])\n",
    "    Fcs.append(sample.Fc[0][2])\n",
    "    Fws.append(sample.Fw[0][2])"
   ]
  },
  {
   "cell_type": "code",
   "execution_count": null,
   "metadata": {},
   "outputs": [],
   "source": [
    "Eds"
   ]
  },
  {
   "cell_type": "code",
   "execution_count": null,
   "metadata": {},
   "outputs": [],
   "source": [
    "Ecs"
   ]
  },
  {
   "cell_type": "code",
   "execution_count": null,
   "metadata": {
    "scrolled": true
   },
   "outputs": [],
   "source": [
    "Ws"
   ]
  },
  {
   "cell_type": "code",
   "execution_count": null,
   "metadata": {},
   "outputs": [],
   "source": [
    "Fds"
   ]
  },
  {
   "cell_type": "code",
   "execution_count": null,
   "metadata": {
    "scrolled": true
   },
   "outputs": [],
   "source": [
    "Fcs"
   ]
  },
  {
   "cell_type": "code",
   "execution_count": null,
   "metadata": {},
   "outputs": [],
   "source": [
    "Fws"
   ]
  },
  {
   "cell_type": "code",
   "execution_count": null,
   "metadata": {
    "collapsed": true
   },
   "outputs": [],
   "source": [
    "%matplotlib inline\n",
    "import matplotlib.pyplot as plt"
   ]
  },
  {
   "cell_type": "code",
   "execution_count": null,
   "metadata": {
    "collapsed": true
   },
   "outputs": [],
   "source": [
    "Ets = np.array(Eds) + Ecs"
   ]
  },
  {
   "cell_type": "code",
   "execution_count": null,
   "metadata": {},
   "outputs": [],
   "source": [
    "Ets - np.array(Vs) * 1.2"
   ]
  },
  {
   "cell_type": "code",
   "execution_count": null,
   "metadata": {},
   "outputs": [],
   "source": [
    "Ws"
   ]
  },
  {
   "cell_type": "code",
   "execution_count": null,
   "metadata": {
    "collapsed": true
   },
   "outputs": [],
   "source": [
    "Ets = np.array(Eds) + np.array(Ecs)\n",
    "\n",
    "Ed = Eds[1]\n",
    "Ec = Ecs[1]\n",
    "Et = Ets[1]\n",
    "W = Ws[1]\n",
    "\n",
    "Fd = Fds[1]\n",
    "Fc = Fcs[1]\n",
    "Fw = Fws[1]"
   ]
  },
  {
   "cell_type": "code",
   "execution_count": null,
   "metadata": {
    "collapsed": true
   },
   "outputs": [],
   "source": [
    "Eds_by_force = [Ed - (-0.1) * (-Fd), Ed, Ed - (0.1) * (-Fd)]\n",
    "Ecs_by_force = [Ec - (-0.1) * (-Fc), Ec, Ec - (0.1) * (-Fc)]\n",
    "Ets_by_force = [Et - (-0.1) * (-Fw), Et, Et - (0.1) * (-Fw)]\n",
    "Ws_by_force = [W - (-0.1) * (-Fw), W, W - (0.1) * (-Fw)]"
   ]
  },
  {
   "cell_type": "code",
   "execution_count": null,
   "metadata": {},
   "outputs": [],
   "source": [
    "plt.plot(ds, Eds)\n",
    "plt.plot(ds, Eds_by_force, \"--\")"
   ]
  },
  {
   "cell_type": "code",
   "execution_count": null,
   "metadata": {
    "scrolled": true
   },
   "outputs": [],
   "source": [
    "plt.plot(ds, Ecs)\n",
    "plt.plot(ds, Ecs_by_force, \"--\")"
   ]
  },
  {
   "cell_type": "code",
   "execution_count": null,
   "metadata": {},
   "outputs": [],
   "source": [
    "plt.plot(ds, Ets)\n",
    "plt.plot(ds, Ets_by_force, \"--\")"
   ]
  },
  {
   "cell_type": "code",
   "execution_count": null,
   "metadata": {
    "scrolled": true
   },
   "outputs": [],
   "source": [
    "plt.plot(ds, Ws)\n",
    "plt.plot(ds, Ws_by_force, \"--\")"
   ]
  },
  {
   "cell_type": "code",
   "execution_count": null,
   "metadata": {
    "collapsed": true
   },
   "outputs": [],
   "source": []
  }
 ],
 "metadata": {
  "kernelspec": {
   "display_name": "Python 3",
   "language": "python",
   "name": "python3"
  },
  "language_info": {
   "codemirror_mode": {
    "name": "ipython",
    "version": 3
   },
   "file_extension": ".py",
   "mimetype": "text/x-python",
   "name": "python",
   "nbconvert_exporter": "python",
   "pygments_lexer": "ipython3",
   "version": "3.6.5"
  }
 },
 "nbformat": 4,
 "nbformat_minor": 1
}
