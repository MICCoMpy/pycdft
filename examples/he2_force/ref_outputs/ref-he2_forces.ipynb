{
 "cells": [
  {
   "cell_type": "code",
   "execution_count": 1,
   "metadata": {
    "collapsed": true
   },
   "outputs": [],
   "source": [
    "from pycdft import *\n",
    "from ase.io import read"
   ]
  },
  {
   "cell_type": "code",
   "execution_count": 2,
   "metadata": {
    "collapsed": true
   },
   "outputs": [],
   "source": [
    "cell = Cell(\"./He2.cif\")"
   ]
  },
  {
   "cell_type": "code",
   "execution_count": 3,
   "metadata": {
    "scrolled": false
   },
   "outputs": [
    {
     "name": "stdout",
     "output_type": "stream",
     "text": [
      "Atom He. Abs coord (0.000, 0.000, 2.900). \n",
      "QboxDriver: setting output path to ./pycdft_outputs/solver1/...\n",
      "QboxDriver: waiting for Qbox to start...\n",
      "QboxDriver: initializing Qbox...\n",
      "======================================\n",
      "Geometry optimization step 1\n",
      "======================================\n",
      "Updating constraint with new structure...\n",
      "~~~~~~~~~~~~~~~~~~~~~~~~~~~~~~~~\n",
      "SCF iteration 1\n",
      "  Ed (DFT energy) = -4.723271\n",
      "  Ec (constraint energy) = 1.191469\n",
      "  E (Ed + Ec) = -3.531802\n",
      "  W (free energy) = -4.723262\n",
      "  > Constraint #0 (type = charge, N0 = 1, V = 1.191584):\n",
      "    N = 0.999896\n",
      "    dW/dV = N - N0 = -0.000104\n",
      "~~~~~~~~~~~~~~~~~~~~~~~~~~~~~~~~\n",
      "*Constrained SCF converged!*\n",
      "\n",
      "Maximum force = 0.207178 au, on 1th atom (He).  Fw = 0.000000, 0.000000, 0.207178\n",
      "  Fd = -0.000000, -0.000000, 0.121502; Fc = 0.000000, 0.000000, 0.085676\n",
      "Updating constraint with new structure...\n",
      "\n",
      "**Constrained optimization NOT achieved after 1 steps!**\n",
      "\n",
      "Atom He. Abs coord (0.000, 0.000, 3.000). \n",
      "QboxDriver: setting output path to ./pycdft_outputs/solver2/...\n",
      "QboxDriver: waiting for Qbox to start...\n",
      "QboxDriver: initializing Qbox...\n",
      "======================================\n",
      "Geometry optimization step 1\n",
      "======================================\n",
      "Updating constraint with new structure...\n",
      "~~~~~~~~~~~~~~~~~~~~~~~~~~~~~~~~\n",
      "SCF iteration 1\n",
      "  Ed (DFT energy) = -4.715671\n",
      "  Ec (constraint energy) = 1.275836\n",
      "  E (Ed + Ec) = -3.439835\n",
      "  W (free energy) = -4.715661\n",
      "  > Constraint #0 (type = charge, N0 = 1, V = 1.274559):\n",
      "    N = 1.000994\n",
      "    dW/dV = N - N0 = 0.000994\n",
      "~~~~~~~~~~~~~~~~~~~~~~~~~~~~~~~~\n",
      "*Constrained SCF converged!*\n",
      "\n",
      "Maximum force = 0.233676 au, on 1th atom (He).  Fw = 0.000000, 0.000000, 0.233676\n",
      "  Fd = 0.000000, -0.000000, 0.140277; Fc = 0.000000, 0.000000, 0.093399\n",
      "Updating constraint with new structure...\n",
      "\n",
      "**Constrained optimization NOT achieved after 1 steps!**\n",
      "\n",
      "Atom He. Abs coord (0.000, 0.000, 3.100). \n",
      "QboxDriver: setting output path to ./pycdft_outputs/solver3/...\n",
      "QboxDriver: waiting for Qbox to start...\n",
      "QboxDriver: initializing Qbox...\n",
      "======================================\n",
      "Geometry optimization step 1\n",
      "======================================\n",
      "Updating constraint with new structure...\n",
      "~~~~~~~~~~~~~~~~~~~~~~~~~~~~~~~~\n",
      "SCF iteration 1\n",
      "  Ed (DFT energy) = -4.705956\n",
      "  Ec (constraint energy) = 1.330770\n",
      "  E (Ed + Ec) = -3.375186\n",
      "  W (free energy) = -4.705946\n",
      "  > Constraint #0 (type = charge, N0 = 1, V = 1.329482):\n",
      "    N = 1.000961\n",
      "    dW/dV = N - N0 = 0.000961\n",
      "~~~~~~~~~~~~~~~~~~~~~~~~~~~~~~~~\n",
      "*Constrained SCF converged!*\n",
      "\n",
      "Maximum force = 0.259448 au, on 1th atom (He).  Fw = 0.000000, 0.000000, 0.259448\n",
      "  Fd = 0.000000, 0.000000, 0.159188; Fc = 0.000000, 0.000000, 0.100260\n",
      "Updating constraint with new structure...\n",
      "\n",
      "**Constrained optimization NOT achieved after 1 steps!**\n",
      "\n"
     ]
    }
   ],
   "source": [
    "ds = [2.9, 3.0, 3.1]\n",
    "Vs = [1.191584, 1.274559, 1.329482]\n",
    "\n",
    "Eds = []\n",
    "Ecs = []\n",
    "Ws = []\n",
    "Fds = []\n",
    "Fcs = []\n",
    "Fws = []\n",
    "\n",
    "for d, V in zip(ds, Vs):\n",
    "    cell.atoms[1].abs_coord[2] = d\n",
    "    sample = Sample(ase_cell=cell.ase_cell, n1=80, n2=80, n3=80, vspin=1)\n",
    "    print(sample.atoms[1])\n",
    "    \n",
    "    qboxdriver = QboxDriver(\n",
    "        sample=sample,\n",
    "        init_cmd=\"load gs.xml\\nset xc PBE\\nset wf_dyn PSDA\\nset_atoms_dyn CG\\nset scf_tol 1.0E-8\\n\",\n",
    "        scf_cmd=\"run 0 50 5\",\n",
    "    )\n",
    "    \n",
    "    solver = CDFTSolver(job=\"opt\", optimizer=\"secant\", sample=sample, maxstep=1, dft_driver=qboxdriver)\n",
    "    \n",
    "    c = ChargeConstraint(\n",
    "        sample=solver.sample,\n",
    "        fragment=Fragment(solver.sample, solver.sample.atoms[0:1]),\n",
    "        V_init=V,\n",
    "        N0=1,\n",
    "        N_tol=1.0E-3\n",
    "    )\n",
    "#     c = ChargeTransferConstraint(\n",
    "#         sample=solver.sample,\n",
    "#         donor=Fragment(solver.sample, solver.sample.atoms[0:1]),\n",
    "#         acceptor=Fragment(solver.sample, solver.sample.atoms[1:2]),\n",
    "#         V_init=0,\n",
    "#         N0=1,\n",
    "#         N_tol=1.0E-3\n",
    "#     )\n",
    "    \n",
    "    solver.solve()\n",
    "    \n",
    "    Eds.append(sample.Ed)\n",
    "    Ecs.append(sample.Ec)\n",
    "    Ws.append(sample.W)\n",
    "    Fds.append(sample.Fd[0][2])\n",
    "    Fcs.append(sample.Fc[0][2])\n",
    "    Fws.append(sample.Fw[0][2])"
   ]
  },
  {
   "cell_type": "code",
   "execution_count": 4,
   "metadata": {},
   "outputs": [
    {
     "data": {
      "text/plain": [
       "[-4.72327146, -4.7156712800000005, -4.70595578]"
      ]
     },
     "execution_count": 4,
     "metadata": {},
     "output_type": "execute_result"
    }
   ],
   "source": [
    "Eds"
   ]
  },
  {
   "cell_type": "code",
   "execution_count": 5,
   "metadata": {},
   "outputs": [
    {
     "data": {
      "text/plain": [
       "[1.19146904, 1.275836, 1.33077003]"
      ]
     },
     "execution_count": 5,
     "metadata": {},
     "output_type": "execute_result"
    }
   ],
   "source": [
    "Ecs"
   ]
  },
  {
   "cell_type": "code",
   "execution_count": 6,
   "metadata": {
    "scrolled": true
   },
   "outputs": [
    {
     "data": {
      "text/plain": [
       "[-4.7232622620660223, -4.7156612553761228, -4.7059455634154581]"
      ]
     },
     "execution_count": 6,
     "metadata": {},
     "output_type": "execute_result"
    }
   ],
   "source": [
    "Ws"
   ]
  },
  {
   "cell_type": "code",
   "execution_count": 7,
   "metadata": {},
   "outputs": [
    {
     "data": {
      "text/plain": [
       "[0.057670409999999998, 0.053490500000000003, 0.047153260000000002]"
      ]
     },
     "execution_count": 7,
     "metadata": {},
     "output_type": "execute_result"
    }
   ],
   "source": [
    "Fds"
   ]
  },
  {
   "cell_type": "code",
   "execution_count": 8,
   "metadata": {
    "scrolled": true
   },
   "outputs": [
    {
     "data": {
      "text/plain": [
       "[0.093888650405107091, 0.10086650239355074, 0.10679309680809296]"
      ]
     },
     "execution_count": 8,
     "metadata": {},
     "output_type": "execute_result"
    }
   ],
   "source": [
    "Fcs"
   ]
  },
  {
   "cell_type": "code",
   "execution_count": 9,
   "metadata": {},
   "outputs": [
    {
     "data": {
      "text/plain": [
       "[0.15155906040510708, 0.15435700239355074, 0.15394635680809296]"
      ]
     },
     "execution_count": 9,
     "metadata": {},
     "output_type": "execute_result"
    }
   ],
   "source": [
    "Fws"
   ]
  },
  {
   "cell_type": "code",
   "execution_count": 10,
   "metadata": {
    "collapsed": true
   },
   "outputs": [],
   "source": [
    "%matplotlib inline\n",
    "import matplotlib.pyplot as plt"
   ]
  },
  {
   "cell_type": "code",
   "execution_count": 11,
   "metadata": {
    "collapsed": true
   },
   "outputs": [],
   "source": [
    "Ets = np.array(Eds) + Ecs"
   ]
  },
  {
   "cell_type": "code",
   "execution_count": 12,
   "metadata": {},
   "outputs": [
    {
     "data": {
      "text/plain": [
       "array([-4.96170322, -4.96930608, -4.97056415])"
      ]
     },
     "execution_count": 12,
     "metadata": {},
     "output_type": "execute_result"
    }
   ],
   "source": [
    "Ets - np.array(Vs) * 1.2"
   ]
  },
  {
   "cell_type": "code",
   "execution_count": 13,
   "metadata": {},
   "outputs": [
    {
     "data": {
      "text/plain": [
       "[-4.7232622620660223, -4.7156612553761228, -4.7059455634154581]"
      ]
     },
     "execution_count": 13,
     "metadata": {},
     "output_type": "execute_result"
    }
   ],
   "source": [
    "Ws"
   ]
  },
  {
   "cell_type": "code",
   "execution_count": 14,
   "metadata": {
    "collapsed": true
   },
   "outputs": [],
   "source": [
    "Ets = np.array(Eds) + np.array(Ecs)\n",
    "\n",
    "Ed = Eds[1]\n",
    "Ec = Ecs[1]\n",
    "Et = Ets[1]\n",
    "W = Ws[1]\n",
    "\n",
    "Fd = Fds[1]\n",
    "Fc = Fcs[1]\n",
    "Fw = Fws[1]"
   ]
  },
  {
   "cell_type": "code",
   "execution_count": 15,
   "metadata": {
    "collapsed": true
   },
   "outputs": [],
   "source": [
    "Eds_by_force = [Ed - (-0.1) * (-Fd), Ed, Ed - (0.1) * (-Fd)]\n",
    "Ecs_by_force = [Ec - (-0.1) * (-Fc), Ec, Ec - (0.1) * (-Fc)]\n",
    "Ets_by_force = [Et - (-0.1) * (-Fw), Et, Et - (0.1) * (-Fw)]\n",
    "Ws_by_force = [W - (-0.1) * (-Fw), W, W - (0.1) * (-Fw)]"
   ]
  },
  {
   "cell_type": "code",
   "execution_count": 16,
   "metadata": {},
   "outputs": [
    {
     "data": {
      "text/plain": [
       "[<matplotlib.lines.Line2D at 0x7fe8b7ea8518>]"
      ]
     },
     "execution_count": 16,
     "metadata": {},
     "output_type": "execute_result"
    },
    {
     "data": {
      "image/png": "[encoded data removed]",
      "text/plain": [
       "<Figure size 432x288 with 1 Axes>"
      ]
     },
     "metadata": {},
     "output_type": "display_data"
    }
   ],
   "source": [
    "plt.plot(ds, Eds)\n",
    "plt.plot(ds, Eds_by_force, \"--\")"
   ]
  },
  {
   "cell_type": "code",
   "execution_count": 17,
   "metadata": {
    "scrolled": true
   },
   "outputs": [
    {
     "data": {
      "text/plain": [
       "[<matplotlib.lines.Line2D at 0x7fe8b7ea8a58>]"
      ]
     },
     "execution_count": 17,
     "metadata": {},
     "output_type": "execute_result"
    },
    {
     "data": {
      "image/png": "[encoded data removed]",
      "text/plain": [
       "<Figure size 432x288 with 1 Axes>"
      ]
     },
     "metadata": {},
     "output_type": "display_data"
    }
   ],
   "source": [
    "plt.plot(ds, Ecs)\n",
    "plt.plot(ds, Ecs_by_force, \"--\")"
   ]
  },
  {
   "cell_type": "code",
   "execution_count": 18,
   "metadata": {},
   "outputs": [
    {
     "data": {
      "text/plain": [
       "[<matplotlib.lines.Line2D at 0x7fe8b7ea8160>]"
      ]
     },
     "execution_count": 18,
     "metadata": {},
     "output_type": "execute_result"
    },
    {
     "data": {
      "image/png": "[encoded data removed]",
      "text/plain": [
       "<Figure size 432x288 with 1 Axes>"
      ]
     },
     "metadata": {},
     "output_type": "display_data"
    }
   ],
   "source": [
    "plt.plot(ds, Ets)\n",
    "plt.plot(ds, Ets_by_force, \"--\")"
   ]
  },
  {
   "cell_type": "code",
   "execution_count": 19,
   "metadata": {
    "scrolled": true
   },
   "outputs": [
    {
     "data": {
      "text/plain": [
       "[<matplotlib.lines.Line2D at 0x7fe8b7e1b6a0>]"
      ]
     },
     "execution_count": 19,
     "metadata": {},
     "output_type": "execute_result"
    },
    {
     "data": {
      "image/png": "[encoded data removed]",
      "text/plain": [
       "<Figure size 432x288 with 1 Axes>"
      ]
     },
     "metadata": {},
     "output_type": "display_data"
    }
   ],
   "source": [
    "plt.plot(ds, Ws)\n",
    "plt.plot(ds, Ws_by_force, \"--\")"
   ]
  },
  {
   "cell_type": "code",
   "execution_count": null,
   "metadata": {
    "collapsed": true
   },
   "outputs": [],
   "source": []
  }
 ],
 "metadata": {
  "kernelspec": {
   "display_name": "Python 3",
   "language": "python",
   "name": "python3"
  },
  "language_info": {
   "codemirror_mode": {
    "name": "ipython",
    "version": 3
   },
   "file_extension": ".py",
   "mimetype": "text/x-python",
   "name": "python",
   "nbconvert_exporter": "python",
   "pygments_lexer": "ipython3",
   "version": "3.6.1"
  }
 },
 "nbformat": 4,
 "nbformat_minor": 1
}
