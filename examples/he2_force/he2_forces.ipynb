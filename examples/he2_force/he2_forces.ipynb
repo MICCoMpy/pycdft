{
 "cells": [
  {
   "cell_type": "markdown",
   "metadata": {},
   "source": [
    "### Prerequisites"
   ]
  },
  {
   "cell_type": "markdown",
   "metadata": {},
   "source": [
    "After compiling the DFT driver and installing PyCDFT, run the ground state calculation.\n",
    "- - - - - - -\n",
    "For Qbox\n",
    "\n",
    "```bash\n",
    " export qb=\"/path/to/executable\"\n",
    " $qb < gs.in > gs.out\n",
    "```\n",
    "\n",
    "Then in the same directory, run [Qbox in server mode](qboxcode.org/daoc/html/usage/client-server.html)\n",
    "\n",
    "```bash\n",
    " mpirun -np <ntasks> $qb -server qb_cdft.in qb_cdft.out\n",
    "```\n",
    "\n",
    "where qb_cdft.\\* are files reserved in client-server mode."
   ]
  },
  {
   "cell_type": "markdown",
   "metadata": {},
   "source": [
    "### Tutorial: constrained forces on He$_2^+$"
   ]
  },
  {
   "cell_type": "markdown",
   "metadata": {},
   "source": [
    "In this tutorial, we explore the calculation of forces for a simple diatomic He$_2^+$ molecule as a function of He-He distance"
   ]
  },
  {
   "cell_type": "code",
   "execution_count": 25,
   "metadata": {
    "collapsed": true
   },
   "outputs": [],
   "source": [
    "from pycdft import *\n",
    "from ase.io import read\n",
    "import numpy as np"
   ]
  },
  {
   "cell_type": "code",
   "execution_count": 22,
   "metadata": {},
   "outputs": [
    {
     "name": "stdout",
     "output_type": "stream",
     "text": [
      "Initial atomic positions (Ang):\n",
      "[[ 0.        0.        0.      ]\n",
      " [ 0.        0.        1.587525]]\n"
     ]
    }
   ],
   "source": [
    "cell = read(\"./He2.cif\")\n",
    "print(r\"Initial atomic positions (Ang):\")\n",
    "print(cell.get_positions())"
   ]
  },
  {
   "cell_type": "code",
   "execution_count": 27,
   "metadata": {
    "scrolled": false
   },
   "outputs": [
    {
     "name": "stdout",
     "output_type": "stream",
     "text": [
      "Atom He. Abs coord (0.000, 0.000, 2.900). \n",
      "QboxDriver: setting output path to ./pycdft_outputs/solver4/...\n",
      "QboxDriver: waiting for Qbox to start...\n",
      "QboxDriver: initializing Qbox...\n",
      "======================================\n",
      "Geometry optimization step 1\n",
      "======================================\n",
      "Updating constraint with new structure...\n",
      "~~~~~~~~~~~~~~~~~~~~~~~~~~~~~~~~\n",
      "SCF iteration 1\n",
      "  Ed (DFT energy) = -4.723272\n",
      "  Ec (constraint energy) = 1.191470\n",
      "  E (Ed + Ec) = -3.531802\n",
      "  W (free energy) = -4.723256\n",
      "  > Constraint #0 (type = charge, N0 = 1, V = 1.191584):\n",
      "    N = 0.999891\n",
      "    dW/dV = N - N0 = -0.000109\n",
      "~~~~~~~~~~~~~~~~~~~~~~~~~~~~~~~~\n",
      "*Constrained SCF converged!*\n",
      "\n",
      "Maximum force = 0.207179 au, on 1th atom (He).  Fw = 0.000000, 0.000000, 0.207179\n",
      "  Fd = -0.000000, -0.000000, 0.121503; Fc = 0.000000, 0.000000, 0.085676\n",
      "Updating constraint with new structure...\n",
      "\n",
      "**Constrained optimization NOT achieved after 1 steps!**\n",
      "\n",
      "Atom He. Abs coord (0.000, 0.000, 3.000). \n",
      "QboxDriver: setting output path to ./pycdft_outputs/solver5/...\n",
      "QboxDriver: waiting for Qbox to start...\n",
      "QboxDriver: initializing Qbox...\n",
      "======================================\n",
      "Geometry optimization step 1\n",
      "======================================\n",
      "Updating constraint with new structure...\n",
      "~~~~~~~~~~~~~~~~~~~~~~~~~~~~~~~~\n",
      "SCF iteration 1\n",
      "  Ed (DFT energy) = -4.715674\n",
      "  Ec (constraint energy) = 1.275839\n",
      "  E (Ed + Ec) = -3.439835\n",
      "  W (free energy) = -4.715657\n",
      "  > Constraint #0 (type = charge, N0 = 1, V = 1.274559):\n",
      "    N = 1.000991\n",
      "    dW/dV = N - N0 = 0.000991\n",
      "~~~~~~~~~~~~~~~~~~~~~~~~~~~~~~~~\n",
      "*Constrained SCF converged!*\n",
      "\n",
      "Maximum force = 0.233676 au, on 1th atom (He).  Fw = 0.000000, 0.000000, 0.233676\n",
      "  Fd = -0.000000, -0.000000, 0.140277; Fc = 0.000000, 0.000000, 0.093399\n",
      "Updating constraint with new structure...\n",
      "\n",
      "**Constrained optimization NOT achieved after 1 steps!**\n",
      "\n",
      "Atom He. Abs coord (0.000, 0.000, 3.100). \n",
      "QboxDriver: setting output path to ./pycdft_outputs/solver6/...\n",
      "QboxDriver: waiting for Qbox to start...\n",
      "QboxDriver: initializing Qbox...\n",
      "======================================\n",
      "Geometry optimization step 1\n",
      "======================================\n",
      "Updating constraint with new structure...\n",
      "~~~~~~~~~~~~~~~~~~~~~~~~~~~~~~~~\n",
      "SCF iteration 1\n",
      "  Ed (DFT energy) = -4.705948\n",
      "  Ec (constraint energy) = 1.330762\n",
      "  E (Ed + Ec) = -3.375185\n",
      "  W (free energy) = -4.705931\n",
      "  > Constraint #0 (type = charge, N0 = 1, V = 1.329482):\n",
      "    N = 1.000950\n",
      "    dW/dV = N - N0 = 0.000950\n",
      "~~~~~~~~~~~~~~~~~~~~~~~~~~~~~~~~\n",
      "*Constrained SCF converged!*\n",
      "\n",
      "Maximum force = 0.259460 au, on 1th atom (He).  Fw = 0.000000, 0.000000, 0.259460\n",
      "  Fd = -0.000000, -0.000000, 0.159199; Fc = 0.000000, 0.000000, 0.100261\n",
      "Updating constraint with new structure...\n",
      "\n",
      "**Constrained optimization NOT achieved after 1 steps!**\n",
      "\n"
     ]
    }
   ],
   "source": [
    "# vary distance of He atoms, in Angstroms\n",
    "# need check if intended to use these numbers in Angstroms\n",
    "# left here in order to match with ref-he2_forces.ipynb\n",
    "ang2bohr= 0.529177\n",
    "ds = np.multiply([2.9, 3.0, 3.1],ang2bohr)\n",
    "# and associated initial guess of Lagrange multiplier, in eV (?)\n",
    "Vs = [1.191584, 1.274559, 1.329482]\n",
    "\n",
    "Eds = []\n",
    "Ecs = []\n",
    "Ws = []\n",
    "Fds = []\n",
    "Fcs = []\n",
    "Fws = []\n",
    "\n",
    "for d, V in zip(ds, Vs):\n",
    "    #cell.atoms[1].abs_coord[2] = d\n",
    "    # sample = Sample(ase_cell=cell.ase_cell, n1=80, n2=80, n3=80, vspin=1)\n",
    "    cell.positions[1][2] =d \n",
    "    sample = Sample(ase_cell=cell, n1=80, n2=80, n3=80, vspin=1)\n",
    "    print(sample.atoms[1])\n",
    "    \n",
    "    # load DFT driver\n",
    "    qboxdriver = QboxDriver(\n",
    "        sample=sample,\n",
    "        init_cmd=\"load gs.xml\\nset xc PBE\\nset wf_dyn PSDA\\nset_atoms_dyn CG\\nset scf_tol 1.0E-8\\n\",\n",
    "        scf_cmd=\"run 0 50 5\",\n",
    "    )\n",
    "    \n",
    "    # set up CDFT constraints and solver\n",
    "    solver = CDFTSolver(job=\"opt\", optimizer=\"secant\", sample=sample, maxstep=1, dft_driver=qboxdriver)\n",
    "    \n",
    "    c = ChargeConstraint(\n",
    "        sample=solver.sample,\n",
    "        fragment=Fragment(solver.sample, solver.sample.atoms[0:1]),\n",
    "        V_init=V,\n",
    "        N0=1,\n",
    "        N_tol=1.0E-3\n",
    "    )\n",
    "#     c = ChargeTransferConstraint(\n",
    "#         sample=solver.sample,\n",
    "#         donor=Fragment(solver.sample, solver.sample.atoms[0:1]),\n",
    "#         acceptor=Fragment(solver.sample, solver.sample.atoms[1:2]),\n",
    "#         V_init=0,\n",
    "#         N0=1,\n",
    "#         N_tol=1.0E-3\n",
    "#     )\n",
    "    \n",
    "    solver.solve()\n",
    "    \n",
    "    # collect energies and forces\n",
    "    Eds.append(sample.Ed)\n",
    "    Ecs.append(sample.Ec)\n",
    "    Ws.append(sample.W)\n",
    "    Fds.append(sample.Fd[0][2])\n",
    "    Fcs.append(sample.Fc[0][2])\n",
    "    Fws.append(sample.Fw[0][2])"
   ]
  },
  {
   "cell_type": "markdown",
   "metadata": {},
   "source": [
    "### Analysis"
   ]
  },
  {
   "cell_type": "markdown",
   "metadata": {},
   "source": [
    "Now let's take a look at some of the outputs.\n",
    "\n",
    "Eds = DFT energy, without constraint potential\n",
    "\n",
    "Ecs = constrained energy corresponding to $\\sum_k V_k \\sum_\\sigma \\int w_k^\\sigma(\\boldsymbol{r})n^\\sigma(\\boldsymbol{r})d^3\\boldsymbol{r}$\n",
    "\n",
    "Ws = free energies, Ws == Eds upon convergence\n",
    "\n",
    "Fds, Fcs, Fws = corresponding forces; Fd is Qbox output; Fw = Fd + Fc used for geometry optimization calculations\n",
    "\n",
    "Qbox is in atomic units (Ry, Bohr, ...)"
   ]
  },
  {
   "cell_type": "code",
   "execution_count": 28,
   "metadata": {},
   "outputs": [
    {
     "data": {
      "text/plain": [
       "[-4.7232715800000005, -4.7156742000000005, -4.705947500000001]"
      ]
     },
     "execution_count": 28,
     "metadata": {},
     "output_type": "execute_result"
    }
   ],
   "source": [
    "Eds"
   ]
  },
  {
   "cell_type": "code",
   "execution_count": 29,
   "metadata": {},
   "outputs": [
    {
     "data": {
      "text/plain": [
       "[1.1914696, 1.27583943, 1.3307623]"
      ]
     },
     "execution_count": 29,
     "metadata": {},
     "output_type": "execute_result"
    }
   ],
   "source": [
    "Ecs"
   ]
  },
  {
   "cell_type": "code",
   "execution_count": 30,
   "metadata": {
    "scrolled": true
   },
   "outputs": [
    {
     "data": {
      "text/plain": [
       "[-4.7232563999255799, -4.7156573929960706, -4.7059306209158631]"
      ]
     },
     "execution_count": 30,
     "metadata": {},
     "output_type": "execute_result"
    }
   ],
   "source": [
    "Ws"
   ]
  },
  {
   "cell_type": "code",
   "execution_count": 31,
   "metadata": {},
   "outputs": [
    {
     "data": {
      "text/plain": [
       "[0.057669959999999999, 0.05349098, 0.04715403]"
      ]
     },
     "execution_count": 31,
     "metadata": {},
     "output_type": "execute_result"
    }
   ],
   "source": [
    "Fds"
   ]
  },
  {
   "cell_type": "code",
   "execution_count": 32,
   "metadata": {
    "scrolled": true
   },
   "outputs": [
    {
     "data": {
      "text/plain": [
       "[0.09388839800073244, 0.10086640503002132, 0.10679375870302286]"
      ]
     },
     "execution_count": 32,
     "metadata": {},
     "output_type": "execute_result"
    }
   ],
   "source": [
    "Fcs"
   ]
  },
  {
   "cell_type": "code",
   "execution_count": 33,
   "metadata": {},
   "outputs": [
    {
     "data": {
      "text/plain": [
       "[0.15155835800073245, 0.15435738503002133, 0.15394778870302286]"
      ]
     },
     "execution_count": 33,
     "metadata": {},
     "output_type": "execute_result"
    }
   ],
   "source": [
    "Fws"
   ]
  },
  {
   "cell_type": "code",
   "execution_count": 34,
   "metadata": {
    "collapsed": true
   },
   "outputs": [],
   "source": [
    "%matplotlib inline\n",
    "import matplotlib.pyplot as plt"
   ]
  },
  {
   "cell_type": "code",
   "execution_count": 35,
   "metadata": {
    "collapsed": true
   },
   "outputs": [],
   "source": [
    "Ets = np.array(Eds) + Ecs"
   ]
  },
  {
   "cell_type": "code",
   "execution_count": 36,
   "metadata": {},
   "outputs": [
    {
     "data": {
      "text/plain": [
       "array([-4.96170278, -4.96930557, -4.9705636 ])"
      ]
     },
     "execution_count": 36,
     "metadata": {},
     "output_type": "execute_result"
    }
   ],
   "source": [
    "Ets - np.array(Vs) * 1.2"
   ]
  },
  {
   "cell_type": "code",
   "execution_count": null,
   "metadata": {
    "collapsed": true
   },
   "outputs": [],
   "source": [
    "Ets = np.array(Eds) + np.array(Ecs)\n",
    "\n",
    "Ed = Eds[1]\n",
    "Ec = Ecs[1]\n",
    "Et = Ets[1]\n",
    "W = Ws[1]\n",
    "\n",
    "Fd = Fds[1]\n",
    "Fc = Fcs[1]\n",
    "Fw = Fws[1]"
   ]
  },
  {
   "cell_type": "code",
   "execution_count": null,
   "metadata": {
    "collapsed": true
   },
   "outputs": [],
   "source": [
    "Eds_by_force = [Ed - (-0.1) * (-Fd), Ed, Ed - (0.1) * (-Fd)]\n",
    "Ecs_by_force = [Ec - (-0.1) * (-Fc), Ec, Ec - (0.1) * (-Fc)]\n",
    "Ets_by_force = [Et - (-0.1) * (-Fw), Et, Et - (0.1) * (-Fw)]\n",
    "Ws_by_force = [W - (-0.1) * (-Fw), W, W - (0.1) * (-Fw)]"
   ]
  },
  {
   "cell_type": "code",
   "execution_count": null,
   "metadata": {
    "collapsed": true
   },
   "outputs": [],
   "source": [
    "plt.plot(ds, Eds)\n",
    "plt.plot(ds, Eds_by_force, \"--\")"
   ]
  },
  {
   "cell_type": "code",
   "execution_count": null,
   "metadata": {
    "collapsed": true,
    "scrolled": true
   },
   "outputs": [],
   "source": [
    "plt.plot(ds, Ecs)\n",
    "plt.plot(ds, Ecs_by_force, \"--\")"
   ]
  },
  {
   "cell_type": "code",
   "execution_count": null,
   "metadata": {
    "collapsed": true
   },
   "outputs": [],
   "source": [
    "plt.plot(ds, Ets)\n",
    "plt.plot(ds, Ets_by_force, \"--\")"
   ]
  },
  {
   "cell_type": "code",
   "execution_count": null,
   "metadata": {
    "collapsed": true,
    "scrolled": true
   },
   "outputs": [],
   "source": [
    "plt.plot(ds, Ws)\n",
    "plt.plot(ds, Ws_by_force, \"--\")"
   ]
  },
  {
   "cell_type": "code",
   "execution_count": null,
   "metadata": {
    "collapsed": true
   },
   "outputs": [],
   "source": []
  }
 ],
 "metadata": {
  "kernelspec": {
   "display_name": "Python 3",
   "language": "python",
   "name": "python3"
  },
  "language_info": {
   "codemirror_mode": {
    "name": "ipython",
    "version": 3
   },
   "file_extension": ".py",
   "mimetype": "text/x-python",
   "name": "python",
   "nbconvert_exporter": "python",
   "pygments_lexer": "ipython3",
   "version": "3.6.1"
  }
 },
 "nbformat": 4,
 "nbformat_minor": 1
}
