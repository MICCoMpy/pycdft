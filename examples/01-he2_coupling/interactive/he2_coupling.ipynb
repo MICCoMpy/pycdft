{
 "cells": [
  {
   "cell_type": "markdown",
   "metadata": {},
   "source": [
    "## Example 01: CDFT calculation of the electronic coupling of $\\mathrm{He}_2^+$"
   ]
  },
  {
   "cell_type": "markdown",
   "metadata": {},
   "source": [
    "### Initialize DFT driver (Qbox)"
   ]
  },
  {
   "cell_type": "markdown",
   "metadata": {},
   "source": [
    "After the installation of PyCDFT and a DFT driver (Qbox in this example), perform the ground state DFT calculation with Qbox.\n",
    "\n",
    "```bash\n",
    "   export qb=\"/path/to/qbox\"\n",
    "   $mpirun -np <ntasks> $qb < gs.in > gs.out\n",
    "```\n",
    "where /path/to/qbox is the path to the Qbox executable and ntasks denotes the number of MPI processes.\n",
    "\n",
    "Then in the same directory, execute Qbox in [client-server mode](qboxcode.org/daoc/html/usage/client-server.html)\n",
    "\n",
    "```bash\n",
    "   $mpirun -np <ntasks> $qb -server qb_cdft.in qb_cdft.out\n",
    "```\n",
    "and leave the terminal open throughout the entire calculation, Qbox will response to commands given by PyCDFT.\n",
    "\n",
    "Make sure this Jupyter notebook sits in the same directory as the ground state calculation."
   ]
  },
  {
   "cell_type": "markdown",
   "metadata": {},
   "source": [
    "### Read atomic structure of $\\mathrm{He}_2^+$"
   ]
  },
  {
   "cell_type": "code",
   "execution_count": null,
   "metadata": {},
   "outputs": [],
   "source": [
    "from pycdft import *\n",
    "from ase.io import read\n",
    "\n",
    "# read atomic structure using ASE\n",
    "cell = read(\"./He2_3Ang.cif\")\n",
    "\n",
    "# construct the Sample instance\n",
    "sample = Sample(ase_cell=cell, n1=112, n2=112, n3=112, vspin=1)"
   ]
  },
  {
   "cell_type": "markdown",
   "metadata": {},
   "source": [
    "### Set up CDFT calculations"
   ]
  },
  {
   "cell_type": "markdown",
   "metadata": {},
   "source": [
    "First, construct a **DFTDriver** that provide necessary commands to for PyCDFT to communicate with Qbox"
   ]
  },
  {
   "cell_type": "code",
   "execution_count": null,
   "metadata": {},
   "outputs": [],
   "source": [
    "qboxdriver = QboxDriver(\n",
    "    sample=sample,\n",
    "    init_cmd=\"load gs.xml \\n\" \n",
    "        \"set xc PBE \\n\" \n",
    "        \"set wf_dyn PSDA \\n\" \n",
    "        \"set_atoms_dyn CG \\n\" \n",
    "        \"set scf_tol 1.0E-8 \\n\",\n",
    "    scf_cmd=\"run 0 50 5\",\n",
    ")"
   ]
  },
  {
   "cell_type": "markdown",
   "metadata": {},
   "source": [
    "Then, set up **CDFTSolver** instances, which orchestrate the entire CDFT calculations.\n",
    "In order to compute the electronic coupling, we need two solvers for the two diabatic state where the extra +1 charge is localized on each He atom."
   ]
  },
  {
   "cell_type": "code",
   "execution_count": null,
   "metadata": {},
   "outputs": [],
   "source": [
    "solver1 = CDFTSolver(\n",
    "    job=\"scf\",  # indicate that the calculation is a SCF calculation\n",
    "    optimizer=\"brenth\", # specifiy the optimizer used for the Lagrangian multiplier\n",
    "    sample=sample, dft_driver=qboxdriver\n",
    ")\n",
    "solver2 = solver1.copy()"
   ]
  },
  {
   "cell_type": "markdown",
   "metadata": {},
   "source": [
    "Finally, we add constraints to the solvers by constructing **Constraint** instances.\n",
    "In this example we will use **ChargeTransferConstraint** to enforce the electron number difference between the two He atoms to be 1."
   ]
  },
  {
   "cell_type": "code",
   "execution_count": null,
   "metadata": {},
   "outputs": [],
   "source": [
    "V = (2,-2)\n",
    "\n",
    "ChargeTransferConstraint(\n",
    "    sample=solver1.sample,\n",
    "    donor=Fragment(solver1.sample, solver1.sample.atoms[0:1]), # donor fragment\n",
    "    acceptor=Fragment(solver1.sample, solver1.sample.atoms[1:2]), # acceptor fragment\n",
    "    V_brak =V, # search region for the brenth optimizer\n",
    "    N0=1, # desired charge to be localized\n",
    "    N_tol=1E-6 # convergence threshold for |N - N0|\n",
    ")\n",
    "ChargeTransferConstraint(\n",
    "    sample=solver2.sample, \n",
    "    donor=Fragment(solver2.sample, solver2.sample.atoms[0:1]),\n",
    "    acceptor=Fragment(solver2.sample, solver2.sample.atoms[1:2]),\n",
    "    V_brak=V,\n",
    "    N0=-1, \n",
    "    N_tol=1E-6\n",
    ")"
   ]
  },
  {
   "cell_type": "markdown",
   "metadata": {},
   "source": [
    "In this example we used V = (2,-2) as the search region for the **brenth** optimizer, which we found to be sufficient for most cases.\n",
    "\n",
    "Note that if one has a good guess for the Lagrange multipliers in constraint potentials (for instance from previous calculations using smaller kinetic energy cutoff, etc.), it is recommended to use optimizers such as **secant**, which can take a initial guess for the Lagrange multiplier. In this case, the **V_brak** parameter should be replaced by the **V_init** parameter when initializing the constraints.\n",
    "For the He-He+ dimer separated by 3 Angstrom, a good starting guess is V_init = -0.7 for solver1 and V_init = 0.7 for solver2."
   ]
  },
  {
   "cell_type": "markdown",
   "metadata": {},
   "source": [
    "### Execute CDFT calculations"
   ]
  },
  {
   "cell_type": "markdown",
   "metadata": {},
   "source": [
    "Call the **solve** method of **CDFTSolver** instances to execute CDFT calculations."
   ]
  },
  {
   "cell_type": "code",
   "execution_count": null,
   "metadata": {
    "scrolled": false
   },
   "outputs": [],
   "source": [
    "solver1.solve()"
   ]
  },
  {
   "cell_type": "code",
   "execution_count": null,
   "metadata": {
    "scrolled": false
   },
   "outputs": [],
   "source": [
    "solver2.solve()"
   ]
  },
  {
   "cell_type": "markdown",
   "metadata": {},
   "source": [
    "Finally, we call upon the routines for calculating electronic coupling. \n",
    "An example output is given in ./reference"
   ]
  },
  {
   "cell_type": "markdown",
   "metadata": {},
   "source": [
    "### Compute electronic coupling"
   ]
  },
  {
   "cell_type": "markdown",
   "metadata": {},
   "source": [
    "After CDFT calculations are converged, the electronic coupling Hab can be computed using the **compute_elcoupling** function"
   ]
  },
  {
   "cell_type": "code",
   "execution_count": null,
   "metadata": {},
   "outputs": [],
   "source": [
    "compute_elcoupling(solver1, solver2)"
   ]
  }
 ],
 "metadata": {
  "anaconda-cloud": {},
  "kernelspec": {
   "display_name": "Python 3",
   "language": "python",
   "name": "python3"
  },
  "language_info": {
   "codemirror_mode": {
    "name": "ipython",
    "version": 3
   },
   "file_extension": ".py",
   "mimetype": "text/x-python",
   "name": "python",
   "nbconvert_exporter": "python",
   "pygments_lexer": "ipython3",
   "version": "3.7.5"
  }
 },
 "nbformat": 4,
 "nbformat_minor": 1
}
