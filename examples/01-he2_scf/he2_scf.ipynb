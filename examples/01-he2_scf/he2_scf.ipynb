{
 "cells": [
  {
   "cell_type": "markdown",
   "metadata": {},
   "source": [
    "### Prerequisites"
   ]
  },
  {
   "cell_type": "markdown",
   "metadata": {},
   "source": [
    "After compiling the DFT driver and installing PyCDFT, run the ground state calculation.\n",
    "- - - - - - -\n",
    "For Qbox\n",
    "\n",
    "```bash\n",
    " export qb=\"/path/to/executable\"\n",
    " $qb < gs.in > gs.out\n",
    "```\n",
    "\n",
    "Then in the same directory, run [Qbox in server mode](qboxcode.org/daoc/html/usage/client-server.html)\n",
    "\n",
    "```bash\n",
    " mpirun -np <ntasks> $qb -server qb_cdft.in qb_cdft.out\n",
    "```\n",
    "\n",
    "where qb_cdft.\\* are files reserved in client-server mode.\n",
    "\n",
    "Make sure the directory is clean of any previous runs"
   ]
  },
  {
   "cell_type": "markdown",
   "metadata": {},
   "source": [
    "### Tutorial: CDFT with He$_2^+$"
   ]
  },
  {
   "cell_type": "code",
   "execution_count": null,
   "metadata": {
    "collapsed": true
   },
   "outputs": [],
   "source": [
    "from pycdft import *\n",
    "from ase.io import read"
   ]
  },
  {
   "cell_type": "code",
   "execution_count": null,
   "metadata": {
    "collapsed": true
   },
   "outputs": [],
   "source": [
    "ase_cell = read(\"./He2.cif\")\n",
    "print(\"Absolute Coordinates (Ang)\")\n",
    "print(ase_cell.get_positions())"
   ]
  },
  {
   "cell_type": "code",
   "execution_count": null,
   "metadata": {
    "collapsed": true
   },
   "outputs": [],
   "source": [
    "sample = Sample(ase_cell=ase_cell, n1=80, n2=80, n3=80, vspin=1)"
   ]
  },
  {
   "cell_type": "code",
   "execution_count": null,
   "metadata": {
    "collapsed": true
   },
   "outputs": [],
   "source": [
    "ChargeTransferConstraint(\n",
    "    sample=sample,\n",
    "    donor=Fragment(sample, sample.atoms[0:1]),\n",
    "    acceptor=Fragment(sample, sample.atoms[1:2]),\n",
    "    V_init=-1.05,\n",
    "    N0=2,\n",
    "    N_tol=1E-3\n",
    ")"
   ]
  },
  {
   "cell_type": "code",
   "execution_count": null,
   "metadata": {
    "collapsed": true,
    "scrolled": true
   },
   "outputs": [],
   "source": [
    "qboxdriver = QboxDriver(\n",
    "    sample=sample,\n",
    "    init_cmd=\"load gs.xml\\nset xc PBE\\nset wf_dyn JD\\nset charge_mix_coeff 0.3\\nset scf_tol 1.0E-7\\n\",\n",
    "    scf_cmd=\"run 0 50 5\"\n",
    ")"
   ]
  },
  {
   "cell_type": "code",
   "execution_count": null,
   "metadata": {
    "collapsed": true,
    "scrolled": true
   },
   "outputs": [],
   "source": [
    "solver = CDFTSolver(job=\"scf\", optimizer=\"secant\", sample=sample, dft_driver=qboxdriver)"
   ]
  },
  {
   "cell_type": "code",
   "execution_count": null,
   "metadata": {
    "collapsed": true,
    "scrolled": false
   },
   "outputs": [],
   "source": [
    "solver.solve()"
   ]
  },
  {
   "cell_type": "code",
   "execution_count": null,
   "metadata": {
    "collapsed": true
   },
   "outputs": [],
   "source": []
  }
 ],
 "metadata": {
  "kernelspec": {
   "display_name": "Python 2",
   "language": "python",
   "name": "python2"
  },
  "language_info": {
   "codemirror_mode": {
    "name": "ipython",
    "version": 2
   },
   "file_extension": ".py",
   "mimetype": "text/x-python",
   "name": "python",
   "nbconvert_exporter": "python",
   "pygments_lexer": "ipython2",
   "version": "2.7.9"
  }
 },
 "nbformat": 4,
 "nbformat_minor": 1
}
