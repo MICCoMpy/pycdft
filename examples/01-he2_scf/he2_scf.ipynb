{
 "cells": [
  {
   "cell_type": "markdown",
   "metadata": {},
   "source": [
    "### Prerequisites"
   ]
  },
  {
   "cell_type": "markdown",
   "metadata": {},
   "source": [
    "After compiling the DFT driver and installing PyCDFT, run the ground state calculation.\n",
    "- - - - - - -\n",
    "For Qbox\n",
    "\n",
    "```bash\n",
    " export qb=\"/path/to/executable\"\n",
    " $qb < gs.in > gs.out\n",
    "```\n",
    "\n",
    "Then in the same directory, run [Qbox in server mode](qboxcode.org/daoc/html/usage/client-server.html)\n",
    "\n",
    "```bash\n",
    " mpirun -np <ntasks> $qb -server qb_cdft.in qb_cdft.out\n",
    "```\n",
    "\n",
    "where qb_cdft.\\* are files reserved in client-server mode."
   ]
  },
  {
   "cell_type": "markdown",
   "metadata": {},
   "source": [
    "### Tutorial: CDFT with He$_2^+$"
   ]
  },
  {
   "cell_type": "code",
   "execution_count": 3,
   "metadata": {
    "collapsed": true
   },
   "outputs": [],
   "source": [
    "from pycdft import *\n",
    "from ase.io import read"
   ]
  },
  {
   "cell_type": "code",
   "execution_count": 4,
   "metadata": {
    "collapsed": true
   },
   "outputs": [],
   "source": [
    "ase_cell = read(\"./He2.cif\")"
   ]
  },
  {
   "cell_type": "code",
   "execution_count": 5,
   "metadata": {
    "collapsed": true
   },
   "outputs": [],
   "source": [
    "sample = Sample(ase_cell=ase_cell, n1=80, n2=80, n3=80, vspin=1)"
   ]
  },
  {
   "cell_type": "code",
   "execution_count": 6,
   "metadata": {},
   "outputs": [
    {
     "data": {
      "text/plain": [
       "<pycdft.constraint.charge_transfer.ChargeTransferConstraint at 0x7f1f5ab6c5f8>"
      ]
     },
     "execution_count": 6,
     "metadata": {},
     "output_type": "execute_result"
    }
   ],
   "source": [
    "ChargeTransferConstraint(\n",
    "    sample=sample,\n",
    "    donor=Fragment(sample, sample.atoms[0:1]),\n",
    "    acceptor=Fragment(sample, sample.atoms[1:2]),\n",
    "    V_init=-1.05,\n",
    "    N0=2,\n",
    "    N_tol=1E-3\n",
    ")"
   ]
  },
  {
   "cell_type": "code",
   "execution_count": 7,
   "metadata": {
    "collapsed": true,
    "scrolled": true
   },
   "outputs": [],
   "source": [
    "qboxdriver = QboxDriver(\n",
    "    sample=sample,\n",
    "    init_cmd=\"load gs.xml\\nset xc PBE\\nset wf_dyn JD\\nset charge_mix_coeff 0.3\\nset scf_tol 1.0E-7\\n\",\n",
    "    scf_cmd=\"run 0 50 5\"\n",
    ")"
   ]
  },
  {
   "cell_type": "code",
   "execution_count": 8,
   "metadata": {
    "scrolled": true
   },
   "outputs": [
    {
     "name": "stdout",
     "output_type": "stream",
     "text": [
      "QboxDriver: setting output path to ./pycdft_outputs/solver1/...\n",
      "QboxDriver: waiting for Qbox to start...\n",
      "QboxDriver: initializing Qbox...\n"
     ]
    }
   ],
   "source": [
    "solver = CDFTSolver(job=\"scf\", optimizer=\"secant\", sample=sample, dft_driver=qboxdriver)"
   ]
  },
  {
   "cell_type": "code",
   "execution_count": 9,
   "metadata": {
    "scrolled": false
   },
   "outputs": [
    {
     "name": "stdout",
     "output_type": "stream",
     "text": [
      "Updating constraint with new structure...\n",
      "~~~~~~~~~~~~~~~~~~~~~~~~~~~~~~~~\n",
      "SCF iteration 1\n",
      "  Ed (DFT energy) = -3.763813\n",
      "  Ec (constraint energy) = -2.116371\n",
      "  E (Ed + Ec) = -5.880184\n",
      "  W (free energy) = -3.763840\n",
      "  > Constraint #0 (type = charge transfer, N0 = 2, V = -1.050000):\n",
      "    N = 2.015566\n",
      "    dW/dV = N - N0 = 0.015566\n",
      "~~~~~~~~~~~~~~~~~~~~~~~~~~~~~~~~\n",
      "~~~~~~~~~~~~~~~~~~~~~~~~~~~~~~~~\n",
      "SCF iteration 2\n",
      "  Ed (DFT energy) = -3.762261\n",
      "  Ec (constraint energy) = -2.118336\n",
      "  E (Ed + Ec) = -5.880597\n",
      "  W (free energy) = -3.762288\n",
      "  > Constraint #0 (type = charge transfer, N0 = 2, V = -1.050205):\n",
      "    N = 2.017043\n",
      "    dW/dV = N - N0 = 0.017043\n",
      "~~~~~~~~~~~~~~~~~~~~~~~~~~~~~~~~\n",
      "~~~~~~~~~~~~~~~~~~~~~~~~~~~~~~~~\n",
      "SCF iteration 3\n",
      "  Ed (DFT energy) = -3.774685\n",
      "  Ec (constraint energy) = -2.101156\n",
      "  E (Ed + Ec) = -5.875841\n",
      "  W (free energy) = -3.774712\n",
      "  > Constraint #0 (type = charge transfer, N0 = 2, V = -1.047840):\n",
      "    N = 2.005201\n",
      "    dW/dV = N - N0 = 0.005201\n",
      "~~~~~~~~~~~~~~~~~~~~~~~~~~~~~~~~\n",
      "~~~~~~~~~~~~~~~~~~~~~~~~~~~~~~~~\n",
      "SCF iteration 4\n",
      "  Ed (DFT energy) = -3.780021\n",
      "  Ec (constraint energy) = -2.093740\n",
      "  E (Ed + Ec) = -5.873761\n",
      "  W (free energy) = -3.780048\n",
      "  > Constraint #0 (type = charge transfer, N0 = 2, V = -1.046802):\n",
      "    N = 2.000106\n",
      "    dW/dV = N - N0 = 0.000106\n",
      "~~~~~~~~~~~~~~~~~~~~~~~~~~~~~~~~\n",
      "*Constrained SCF converged!*\n",
      "\n"
     ]
    }
   ],
   "source": [
    "solver.solve()"
   ]
  }
 ],
 "metadata": {
  "kernelspec": {
   "display_name": "Python 3",
   "language": "python",
   "name": "python3"
  },
  "language_info": {
   "codemirror_mode": {
    "name": "ipython",
    "version": 3
   },
   "file_extension": ".py",
   "mimetype": "text/x-python",
   "name": "python",
   "nbconvert_exporter": "python",
   "pygments_lexer": "ipython3",
   "version": "3.6.1"
  }
 },
 "nbformat": 4,
 "nbformat_minor": 1
}
