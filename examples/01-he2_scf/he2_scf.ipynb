{
 "cells": [
  {
   "cell_type": "markdown",
   "metadata": {},
   "source": [
    "# Tutorial 1: scf cycle in CDFT with He$_2^+$"
   ]
  },
  {
   "cell_type": "markdown",
   "metadata": {},
   "source": [
    "### 0: Prerequisites"
   ]
  },
  {
   "cell_type": "markdown",
   "metadata": {},
   "source": [
    "After compiling the DFT driver and installing PyCDFT, run the ground state calculation.\n",
    "- - - - - - -\n",
    "For Qbox\n",
    "\n",
    "Our starting DFT wavefunctions are based on the following input\n",
    "\n",
    "```text\n",
    "set cell 20.000000 0.000000 0.000000 0.000000 20.000000 0.000000 0.000000 0.000000 20.000000\n",
    "\n",
    "species He He_ONCV_PBE-1.0.xml\n",
    "\n",
    "atom He1 He  0.00000000  0.00000000  0.00000000\n",
    "atom He2 He  0.00000000  0.00000000  3.00000000\n",
    "\n",
    "set net_charge 1\n",
    "set nspin 2\n",
    "set xc PBE\n",
    "set ecut 30\n",
    "set wf_dyn JD\n",
    "set scf_tol 1.0E-8\n",
    "\n",
    "randomize_wf\n",
    "run 0 200 5\n",
    "save gs.xml\n",
    "```\n",
    "We run the Qbox executable \n",
    "\n",
    "```bash\n",
    " export qb=\"/path/to/executable/qb\"\n",
    " $qb < gs.in > gs.out\n",
    "```\n",
    "\n",
    "Then in the same directory (and possibly through a different terminal window), run [Qbox in server mode](qboxcode.org/daoc/html/usage/client-server.html)\n",
    "\n",
    "```bash\n",
    " mpirun -np <ntasks> $qb -server qb_cdft.in qb_cdft.out\n",
    "```\n",
    "\n",
    "where qb_cdft.\\* are files reserved in client-server mode.\n",
    "\n",
    "Make sure the directory is clean of any previous runs"
   ]
  },
  {
   "cell_type": "markdown",
   "metadata": {},
   "source": [
    "### 1: A CDFT cycle"
   ]
  },
  {
   "cell_type": "markdown",
   "metadata": {},
   "source": [
    "Now we are in a position to run a self-consistent cycle in CDFT. First we import the module and the structure using a \\*cif file"
   ]
  },
  {
   "cell_type": "code",
   "execution_count": 1,
   "metadata": {},
   "outputs": [],
   "source": [
    "from pycdft import *\n",
    "from ase.io import read"
   ]
  },
  {
   "cell_type": "code",
   "execution_count": 2,
   "metadata": {},
   "outputs": [
    {
     "name": "stdout",
     "output_type": "stream",
     "text": [
      "Absolute Coordinates (Ang)\n",
      "[[0.       0.       0.      ]\n",
      " [0.       0.       1.587525]]\n"
     ]
    }
   ],
   "source": [
    "ase_cell = read(\"./He2.cif\")\n",
    "print(\"Absolute Coordinates (Ang)\")\n",
    "print(ase_cell.get_positions())"
   ]
  },
  {
   "cell_type": "markdown",
   "metadata": {},
   "source": [
    "Instantiate a sample with the imported structure (ASE atoms object) where\n",
    "\n",
    "  n1, n2, n3: FFT grid size. This can be found using\n",
    "  \n",
    "```bash\n",
    "  grep np2v gs.out\n",
    "```\n",
    "  vspin: indicates how many constraint potentials; currently for spin-polarized calculations, the same Vc is used"
   ]
  },
  {
   "cell_type": "code",
   "execution_count": 3,
   "metadata": {},
   "outputs": [],
   "source": [
    "sample = Sample(ase_cell=ase_cell, n1=80, n2=80, n3=80, vspin=1)"
   ]
  },
  {
   "cell_type": "markdown",
   "metadata": {},
   "source": [
    "Next we instantiate an instance of the Constraint class, in this case the charge transfer constraint, which puts a constraint on the different in charge between specific donor and acceptor regions. \n",
    "\n",
    "Donor and acceptor regions are specified by the atoms index. It is advised to bunch donor atoms and acceptor atoms separately. \n",
    "In this case, it is simple, the He atom on the left is the donor and the He atom on the right is the acceptor.\n",
    "\n",
    "The KS energy functional with added constraint is then minimized using an optimizer (native to numpy).\n",
    "For the `secant` optimizer, an initial guess `V_init` is given.\n",
    "The `secant` optimizer is useful for when a good initial guess is given;\n",
    "otherwise the `brenth` or `brentq` optimizers are useful for searching the constraint potential within a range of values.\n",
    "\n",
    "The constraint is evaluated until the error between the calculated count of electrons is less than the target number `N0` by a tolerance of `N_tol`."
   ]
  },
  {
   "cell_type": "code",
   "execution_count": 4,
   "metadata": {},
   "outputs": [
    {
     "name": "stdout",
     "output_type": "stream",
     "text": [
      "Constraint charge transfer: N_tol 0.00100, eps 1.00E-06\n"
     ]
    },
    {
     "data": {
      "text/plain": [
       "<pycdft.constraint.charge_transfer.ChargeTransferConstraint at 0x7f74765c5cf8>"
      ]
     },
     "execution_count": 4,
     "metadata": {},
     "output_type": "execute_result"
    }
   ],
   "source": [
    "ChargeTransferConstraint(\n",
    "    sample=sample,\n",
    "    donor=Fragment(sample, sample.atoms[0:1]),\n",
    "    acceptor=Fragment(sample, sample.atoms[1:2]),\n",
    "    V_init=-1.05,\n",
    "    N0=2,\n",
    "    N_tol=1E-3\n",
    ")"
   ]
  },
  {
   "cell_type": "markdown",
   "metadata": {},
   "source": [
    "Here the DFT driver is instantiated. We use Qbox in this instance and provide the basic input parameters and commands."
   ]
  },
  {
   "cell_type": "code",
   "execution_count": 5,
   "metadata": {
    "scrolled": true
   },
   "outputs": [],
   "source": [
    "qboxdriver = QboxDriver(\n",
    "    sample=sample,\n",
    "    init_cmd=\"load gs.xml\\n\"\n",
    "              \"set xc PBE\\n\"\n",
    "              \"set wf_dyn JD\\n\"\n",
    "              \"set charge_mix_coeff 0.3\\n\"\n",
    "              \"set scf_tol 1.0E-7\\n\",\n",
    "    scf_cmd=\"run 0 50 5\"\n",
    ")"
   ]
  },
  {
   "cell_type": "markdown",
   "metadata": {},
   "source": [
    "Finally, we combine everything into an instance of CDFTSolver and call upon the main solve routine."
   ]
  },
  {
   "cell_type": "code",
   "execution_count": null,
   "metadata": {
    "scrolled": false
   },
   "outputs": [],
   "source": [
    "solver = CDFTSolver(job=\"scf\", optimizer=\"secant\", sample=sample, dft_driver=qboxdriver)\n",
    "solver.solve()"
   ]
  },
  {
   "cell_type": "markdown",
   "metadata": {},
   "source": [
    "### 2: Examining the output"
   ]
  },
  {
   "cell_type": "markdown",
   "metadata": {},
   "source": [
    "We get output like the following below.\n",
    "\n",
    "Here we see the output of PyCDFT. For output from Qbox, see qb_cdft.out or the cluster output files.\n",
    "In each iteration, PyCDFT prints the DFT energy, the constraint energy and their total. \n",
    "\n",
    "Upon convergence, W = Ed and their difference is a measure for how away you are from convergence.\n",
    "\n",
    "In this particular case, we chose a random initial guess and use the secant optimizer. \n",
    "As can be seen constraint potential `V` explodes.\n",
    "For a more stable optimization run, do a search over possible `V` using `brenth` or `brentq`.\n",
    "\n",
    "We shall do a better optimization and calculate the electronic coupling in the next tutorial, `02-he_coupling`"
   ]
  },
  {
   "cell_type": "raw",
   "metadata": {},
   "source": [
    "QboxDriver: setting output path to ./pycdft_outputs/solver1/...\n",
    "QboxDriver: waiting for Qbox to start...\n",
    "QboxDriver: initializing Qbox...\n",
    "===================== Initializing Run ====================\n",
    "Updating constraint with new structure...\n",
    "Running optimizer:  secant\n",
    "=======================================\n",
    "~~~~~~~~~~~~~~~~~~~~~~~~~~~~~~~~\n",
    "SCF iteration 1\n",
    "  Ed (DFT energy) = -3.021073\n",
    "  Ec (constraint energy) = -3.014962\n",
    "  E (Ed + Ec) = -6.036034\n",
    "  W (free energy) = -3.021111\n",
    "  > Constraint #0 (type = charge transfer, N0 = 1, V = -1.050000000000):\n",
    "    N = 2.871356\n",
    "    dW/dV = N - N0 = 1.87135565\n",
    "Elapsed time: \n",
    "00h:00m:06.21s\n",
    "~~~~~~~~~~~~~~~~~~~~~~~~~~~~~~~~\n",
    "00h:00m:12.97s\n",
    "Running optimizer:  secant\n",
    "=======================================\n",
    "~~~~~~~~~~~~~~~~~~~~~~~~~~~~~~~~\n",
    "SCF iteration 2\n",
    "  Ed (DFT energy) = -3.021058\n",
    "  Ec (constraint energy) = -3.015565\n",
    "  E (Ed + Ec) = -6.036623\n",
    "  W (free energy) = -3.021096\n",
    "  > Constraint #0 (type = charge transfer, N0 = 1, V = -1.050205000000):\n",
    "    N = 2.871370\n",
    "    dW/dV = N - N0 = 1.87136982\n",
    "Elapsed time: \n",
    "00h:00m:04.24s\n",
    "~~~~~~~~~~~~~~~~~~~~~~~~~~~~~~~~\n",
    "00h:00m:19.56s\n",
    "Running optimizer:  secant\n",
    "=======================================\n",
    "~~~~~~~~~~~~~~~~~~~~~~~~~~~~~~~~\n",
    "SCF iteration 3\n",
    "  Ed (DFT energy) = -2.587015\n",
    "  Ec (constraint energy) = -77.702878\n",
    "  E (Ed + Ec) = -80.289893\n",
    "  W (free energy) = -2.588009\n",
    "  > Constraint #0 (type = charge transfer, N0 = 1, V = 26.014933432129):\n",
    "    N = -2.986818\n",
    "    dW/dV = N - N0 = -3.98681848\n",
    "Elapsed time: \n",
    "00h:00m:08.24s\n",
    "~~~~~~~~~~~~~~~~~~~~~~~~~~~~~~~~\n",
    "00h:00m:30.14s\n",
    "Running optimizer:  secant\n",
    "=======================================\n",
    "~~~~~~~~~~~~~~~~~~~~~~~~~~~~~~~~\n",
    "SCF iteration 4\n",
    "  Ed (DFT energy) = -2.780199\n",
    "  Ec (constraint energy) = -22.579629\n",
    "  E (Ed + Ec) = -25.359827\n",
    "  W (free energy) = -2.780485\n",
    "  > Constraint #0 (type = charge transfer, N0 = 1, V = 7.595622129883):\n",
    "    N = -2.972678\n",
    "    dW/dV = N - N0 = -3.97267844\n",
    "Elapsed time: \n",
    "00h:00m:06.20s\n",
    "~~~~~~~~~~~~~~~~~~~~~~~~~~~~~~~~\n",
    "00h:00m:38.69s\n",
    "Running optimizer:  secant\n",
    "=======================================\n",
    "~~~~~~~~~~~~~~~~~~~~~~~~~~~~~~~~\n",
    "SCF iteration 5\n",
    "  Ed (DFT energy) = -0.153917\n",
    "  Ec (constraint energy) = -15475.729276\n",
    "  E (Ed + Ec) = -15475.883193\n",
    "  W (free energy) = -0.350200\n",
    "  > Constraint #0 (type = charge transfer, N0 = 1, V = -5167.356539496155):\n",
    "    N = 2.994865\n",
    "    dW/dV = N - N0 = 1.99486456\n",
    "Elapsed time: \n",
    "00h:00m:08.21s\n",
    "~~~~~~~~~~~~~~~~~~~~~~~~~~~~~~~~\n",
    "00h:00m:49.25s\n",
    "Running optimizer:  secant\n",
    "=======================================\n",
    "~~~~~~~~~~~~~~~~~~~~~~~~~~~~~~~~\n",
    "SCF iteration 6\n",
    "  Ed (DFT energy) = 0.428655\n",
    "  Ec (constraint energy) = -10301.265948\n",
    "  E (Ed + Ec) = -10300.837293\n",
    "  W (free energy) = 0.297605\n",
    "  > Constraint #0 (type = charge transfer, N0 = 1, V = -3437.443796806851):\n",
    "    N = 2.996743\n",
    "    dW/dV = N - N0 = 1.99674279\n",
    "Elapsed time: \n",
    "00h:00m:08.24s"
   ]
  }
 ],
 "metadata": {
  "kernelspec": {
   "display_name": "Python 3",
   "language": "python",
   "name": "python3"
  },
  "language_info": {
   "codemirror_mode": {
    "name": "ipython",
    "version": 3
   },
   "file_extension": ".py",
   "mimetype": "text/x-python",
   "name": "python",
   "nbconvert_exporter": "python",
   "pygments_lexer": "ipython3",
   "version": "3.7.0"
  }
 },
 "nbformat": 4,
 "nbformat_minor": 1
}
