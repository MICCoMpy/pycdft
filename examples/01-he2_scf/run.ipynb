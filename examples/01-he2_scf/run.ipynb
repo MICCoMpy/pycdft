{
 "cells": [
  {
   "cell_type": "code",
   "execution_count": null,
   "metadata": {
    "collapsed": true
   },
   "outputs": [],
   "source": [
    "# Qbox ground state calculation needs to be done first\n",
    "# \"qb < gs.in > gs.out\""
   ]
  },
  {
   "cell_type": "code",
   "execution_count": null,
   "metadata": {
    "collapsed": true
   },
   "outputs": [],
   "source": [
    "# start Qbox in server mode before running the notebook\n",
    "# \"qb -server qb_cdft.in qb_cdft.out\""
   ]
  },
  {
   "cell_type": "code",
   "execution_count": null,
   "metadata": {
    "collapsed": true
   },
   "outputs": [],
   "source": [
    "from pycdft import *\n",
    "from ase.io import read"
   ]
  },
  {
   "cell_type": "code",
   "execution_count": null,
   "metadata": {
    "collapsed": true
   },
   "outputs": [],
   "source": [
    "ase_cell = read(\"./He2.cif\")"
   ]
  },
  {
   "cell_type": "code",
   "execution_count": null,
   "metadata": {},
   "outputs": [],
   "source": [
    "sample = Sample(ase_cell=ase_cell, n1=80, n2=80, n3=80, vspin=1)"
   ]
  },
  {
   "cell_type": "code",
   "execution_count": null,
   "metadata": {},
   "outputs": [],
   "source": [
    "ChargeTransferConstraint(\n",
    "    sample=sample,\n",
    "    donor=Fragment(sample, sample.atoms[0:1]),\n",
    "    acceptor=Fragment(sample, sample.atoms[1:2]),\n",
    "    V_init=-1.05,\n",
    "    N0=2,\n",
    "    N_tol=1E-3\n",
    ")"
   ]
  },
  {
   "cell_type": "code",
   "execution_count": null,
   "metadata": {
    "collapsed": true,
    "scrolled": true
   },
   "outputs": [],
   "source": [
    "qboxdriver = QboxDriver(\n",
    "    sample=sample,\n",
    "    init_cmd=\"load gs.xml\\nset xc PBE\\nset wf_dyn JD\\nset charge_mix_coeff 0.3\\nset scf_tol 1.0E-7\\n\",\n",
    "    scf_cmd=\"run 0 50 5\"\n",
    ")"
   ]
  },
  {
   "cell_type": "code",
   "execution_count": null,
   "metadata": {
    "scrolled": true
   },
   "outputs": [],
   "source": [
    "solver = CDFTSolver(job=\"scf\", optimizer=\"secant\", sample=sample, dft_driver=qboxdriver)"
   ]
  },
  {
   "cell_type": "code",
   "execution_count": null,
   "metadata": {
    "scrolled": false
   },
   "outputs": [],
   "source": [
    "solver.solve()"
   ]
  }
 ],
 "metadata": {
  "kernelspec": {
   "display_name": "Python 3",
   "language": "python",
   "name": "python3"
  },
  "language_info": {
   "codemirror_mode": {
    "name": "ipython",
    "version": 3
   },
   "file_extension": ".py",
   "mimetype": "text/x-python",
   "name": "python",
   "nbconvert_exporter": "python",
   "pygments_lexer": "ipython3",
   "version": "3.6.5"
  }
 },
 "nbformat": 4,
 "nbformat_minor": 1
}
